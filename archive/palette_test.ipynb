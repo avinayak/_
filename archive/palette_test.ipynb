{
 "cells": [
  {
   "cell_type": "code",
   "execution_count": 2,
   "metadata": {},
   "outputs": [],
   "source": [
    "\"\"\"A MoodBoard generator by atul\"\"\"\n",
    "\n",
    "import os\n",
    "import hashlib\n",
    "import multiprocessing\n",
    "\n",
    "from pathlib import Path\n",
    "from random import choice\n",
    "from dataclasses import dataclass, field\n",
    "from PIL import Image\n",
    "\n",
    "import imagehash\n",
    "import jinja2\n",
    "from sklearn.utils import shuffle\n",
    "from tqdm import tqdm\n",
    "from functools import wraps\n",
    "from time import time\n",
    "from colorthief import ColorThief"
   ]
  },
  {
   "cell_type": "code",
   "execution_count": 3,
   "metadata": {},
   "outputs": [],
   "source": [
    "required_extensions = [\"*.jpg\", \"*.jpeg\", \"*.png\", \"*.gif\", \"*.webp\"]\n",
    "images = []\n",
    "for paths in [Path('docs').rglob(ext) for ext in required_extensions]:\n",
    "    for path in paths:\n",
    "        images.append(path.relative_to('.'))"
   ]
  },
  {
   "cell_type": "code",
   "execution_count": 69,
   "metadata": {},
   "outputs": [],
   "source": [
    "image = choice(images)"
   ]
  },
  {
   "cell_type": "code",
   "execution_count": 70,
   "metadata": {},
   "outputs": [],
   "source": [
    "\n",
    "im = Image.open(image)\n",
    "im = im.convert('P', palette=Image.ADAPTIVE, colors=16)\n",
    "im.show()"
   ]
  }
 ],
 "metadata": {
  "interpreter": {
   "hash": "e7370f93d1d0cde622a1f8e1c04877d8463912d04d973331ad4851f04de6915a"
  },
  "kernelspec": {
   "display_name": "Python 3.8.10 64-bit",
   "language": "python",
   "name": "python3"
  },
  "language_info": {
   "codemirror_mode": {
    "name": "ipython",
    "version": 3
   },
   "file_extension": ".py",
   "mimetype": "text/x-python",
   "name": "python",
   "nbconvert_exporter": "python",
   "pygments_lexer": "ipython3",
   "version": "3.8.10"
  },
  "orig_nbformat": 4
 },
 "nbformat": 4,
 "nbformat_minor": 2
}
